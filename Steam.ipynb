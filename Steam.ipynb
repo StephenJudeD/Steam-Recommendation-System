{
 "cells": [
  {
   "cell_type": "markdown",
   "id": "ddb41612",
   "metadata": {
    "papermill": {
     "duration": 0.020903,
     "end_time": "2021-07-11T13:49:01.893957",
     "exception": false,
     "start_time": "2021-07-11T13:49:01.873054",
     "status": "completed"
    },
    "tags": []
   },
   "source": [
    "### Recommendation system\n",
    "\n",
    "I present a small recommendation system for the Steam game store database that utilizes Feature Extraction "
   ]
  },
  {
   "cell_type": "code",
   "execution_count": 1,
   "id": "cef2112b",
   "metadata": {
    "execution": {
     "iopub.execute_input": "2021-07-11T13:49:01.945054Z",
     "iopub.status.busy": "2021-07-11T13:49:01.943885Z",
     "iopub.status.idle": "2021-07-11T13:49:03.067344Z",
     "shell.execute_reply": "2021-07-11T13:49:03.066428Z",
     "shell.execute_reply.started": "2021-07-11T11:27:23.714971Z"
    },
    "papermill": {
     "duration": 1.15384,
     "end_time": "2021-07-11T13:49:03.067540",
     "exception": false,
     "start_time": "2021-07-11T13:49:01.913700",
     "status": "completed"
    },
    "tags": []
   },
   "outputs": [],
   "source": [
    "import pandas as pd\n",
    "import numpy as np\n",
    "import matplotlib.pyplot as plt\n",
    "from sklearn.feature_extraction.text import CountVectorizer\n",
    "from sklearn.metrics.pairwise import cosine_similarity\n",
    "from sklearn.feature_extraction.text import TfidfVectorizer\n",
    "from scipy.sparse import hstack"
   ]
  },
  {
   "cell_type": "code",
   "execution_count": 2,
   "id": "62f40d80",
   "metadata": {
    "execution": {
     "iopub.execute_input": "2021-07-11T13:49:03.112458Z",
     "iopub.status.busy": "2021-07-11T13:49:03.111713Z",
     "iopub.status.idle": "2021-07-11T13:49:06.048665Z",
     "shell.execute_reply": "2021-07-11T13:49:06.049667Z",
     "shell.execute_reply.started": "2021-07-11T11:27:36.222773Z"
    },
    "papermill": {
     "duration": 2.962749,
     "end_time": "2021-07-11T13:49:06.049878",
     "exception": false,
     "start_time": "2021-07-11T13:49:03.087129",
     "status": "completed"
    },
    "tags": []
   },
   "outputs": [
    {
     "name": "stderr",
     "output_type": "stream",
     "text": [
      "C:\\Users\\steph\\Anaconda3\\lib\\site-packages\\IPython\\core\\interactiveshell.py:3165: DtypeWarning: Columns (0,4,5,6,7,8,9,10,11,12,13,14,15,16,17,18,19,20,21,22,23,24,25,26,27,28,29,30,31,32,33,34,35,36,37,38,39,40,41,42,43,44,45,46,47,48,49,50,51,52,53,54,55,56,57,58,59,60,61,62,63,64,65,66,67,68,69,70,71,72,73,74,75,76,77,78,79,80,81,82,83,84,85,86,87,88,89,90,91,92,93,94,95,96,97,98,99,100,101,102,103,104,105,106,107,108,109,110,111,112,113,114,115,116,117,118,119,120,121,122,123,124,125,126,127,128,129,130,131,132,133,134,135,136,137,138,139,140,141,142,143,144,145,146,147,148,149,150,151,152,153,154,155,156,157,158,159,160,161,162,163,164,165,166,167,168,169,170,171,172,173,174,175,176,177,178,179,180,181,182,183,184,185,186,187,188,189,190,191,192,193,194,195,196,197) have mixed types.Specify dtype option on import or set low_memory=False.\n",
      "  has_raised = await self.run_ast_nodes(code_ast.body, cell_name,\n"
     ]
    }
   ],
   "source": [
    "# Importing the files you want\n",
    "steam_csv = pd.read_csv(\"C:/Users/steph/Desktop/Recommender/steam.csv\")\n",
    "descr_csv = pd.read_csv(\"C:/Users/steph/Desktop/Recommender/steam_description_data.csv\")"
   ]
  },
  {
   "cell_type": "code",
   "execution_count": 3,
   "id": "53569e6f",
   "metadata": {
    "execution": {
     "iopub.execute_input": "2021-07-11T13:49:06.095800Z",
     "iopub.status.busy": "2021-07-11T13:49:06.094978Z",
     "iopub.status.idle": "2021-07-11T13:49:06.100057Z",
     "shell.execute_reply": "2021-07-11T13:49:06.099461Z",
     "shell.execute_reply.started": "2021-07-11T11:27:40.223251Z"
    },
    "papermill": {
     "duration": 0.031303,
     "end_time": "2021-07-11T13:49:06.100223",
     "exception": false,
     "start_time": "2021-07-11T13:49:06.068920",
     "status": "completed"
    },
    "tags": []
   },
   "outputs": [
    {
     "data": {
      "text/plain": [
       "(27075, 18)"
      ]
     },
     "execution_count": 3,
     "metadata": {},
     "output_type": "execute_result"
    }
   ],
   "source": [
    "# Total size\n",
    "steam_csv.shape"
   ]
  },
  {
   "cell_type": "markdown",
   "id": "06fbf878",
   "metadata": {
    "papermill": {
     "duration": 0.018935,
     "end_time": "2021-07-11T13:49:06.138708",
     "exception": false,
     "start_time": "2021-07-11T13:49:06.119773",
     "status": "completed"
    },
    "tags": []
   },
   "source": [
    "The recommendation system will be based on the game name, developer, genre, tags and description. The dataframe contains 27,000 games. Since not all games can meet their tags or players' expectations, I decided to remove games with a difference between positive and negative ratings less than 10. One of the options might not be to completely remove these games from the dataframe, but to remove these games from the recommendations, which will allow you to search games similar to them, but with a positive rating. But the first method allows you to reduce the dataframe, so I could not resist deleting. Games without English translation have been removed, as recommendations for such games are likely to be incorrect"
   ]
  },
  {
   "cell_type": "code",
   "execution_count": 4,
   "id": "a177d8b4",
   "metadata": {
    "execution": {
     "iopub.execute_input": "2021-07-11T13:49:06.184737Z",
     "iopub.status.busy": "2021-07-11T13:49:06.184052Z",
     "iopub.status.idle": "2021-07-11T13:49:06.309764Z",
     "shell.execute_reply": "2021-07-11T13:49:06.309207Z",
     "shell.execute_reply.started": "2021-07-11T11:27:52.479191Z"
    },
    "papermill": {
     "duration": 0.152051,
     "end_time": "2021-07-11T13:49:06.309904",
     "exception": false,
     "start_time": "2021-07-11T13:49:06.157853",
     "status": "completed"
    },
    "tags": []
   },
   "outputs": [],
   "source": [
    "# Combining dataframes\n",
    "steam_csv = steam_csv.rename(columns={'appid':'steam_appid'})\n",
    "united_df = steam_csv.merge(descr_csv, on='steam_appid')\n",
    "\n",
    "# Removing unused columns\n",
    "united_df = united_df.drop(['release_date',\n",
    "                            'platforms',\n",
    "                            'required_age',\n",
    "                            'achievements',\n",
    "                            'average_playtime',\n",
    "                            'median_playtime',\n",
    "                            'owners',\n",
    "                            'price',\n",
    "                            'about_the_game',\n",
    "                            'categories',\n",
    "                            'publisher',\n",
    "                            'detailed_description'],1)\n",
    "\n",
    "# Creating a rating difference\n",
    "united_df['rating_difference'] = united_df['positive_ratings'] - united_df['negative_ratings']\n",
    "\n",
    "# Removing games with negative and very low ratings\n",
    "united_df = united_df.drop(united_df[united_df['rating_difference'] <= 10].index).reset_index(drop=True)\n",
    "\n",
    "# Removing games without English translation\n",
    "united_df = united_df.drop(united_df[united_df['english'] == 0].index).reset_index(drop=True)"
   ]
  },
  {
   "cell_type": "code",
   "execution_count": 5,
   "id": "65114d85",
   "metadata": {
    "execution": {
     "iopub.execute_input": "2021-07-11T13:49:06.351689Z",
     "iopub.status.busy": "2021-07-11T13:49:06.351036Z",
     "iopub.status.idle": "2021-07-11T13:49:06.357396Z",
     "shell.execute_reply": "2021-07-11T13:49:06.356854Z",
     "shell.execute_reply.started": "2021-07-11T11:27:57.505351Z"
    },
    "papermill": {
     "duration": 0.028442,
     "end_time": "2021-07-11T13:49:06.357533",
     "exception": false,
     "start_time": "2021-07-11T13:49:06.329091",
     "status": "completed"
    },
    "tags": []
   },
   "outputs": [
    {
     "data": {
      "text/plain": [
       "(12330, 204)"
      ]
     },
     "execution_count": 5,
     "metadata": {},
     "output_type": "execute_result"
    }
   ],
   "source": [
    "# Total size \n",
    "united_df.shape"
   ]
  },
  {
   "cell_type": "markdown",
   "id": "86c5a02f",
   "metadata": {
    "papermill": {
     "duration": 0.019369,
     "end_time": "2021-07-11T13:49:06.396405",
     "exception": false,
     "start_time": "2021-07-11T13:49:06.377036",
     "status": "completed"
    },
    "tags": []
   },
   "source": [
    "# Data Exploration"
   ]
  },
  {
   "cell_type": "code",
   "execution_count": 6,
   "id": "06736692",
   "metadata": {
    "execution": {
     "iopub.execute_input": "2021-07-11T13:49:06.452435Z",
     "iopub.status.busy": "2021-07-11T13:49:06.451744Z",
     "iopub.status.idle": "2021-07-11T13:49:06.717920Z",
     "shell.execute_reply": "2021-07-11T13:49:06.717269Z",
     "shell.execute_reply.started": "2021-07-11T11:28:00.764729Z"
    },
    "papermill": {
     "duration": 0.301993,
     "end_time": "2021-07-11T13:49:06.718059",
     "exception": false,
     "start_time": "2021-07-11T13:49:06.416066",
     "status": "completed"
    },
    "tags": []
   },
   "outputs": [
    {
     "data": {
      "image/png": "[encoded data removed]",
      "text/plain": [
       "<Figure size 720x288 with 1 Axes>"
      ]
     },
     "metadata": {
      "needs_background": "light"
     },
     "output_type": "display_data"
    }
   ],
   "source": [
    "# Selecting the required part of the dataframe\n",
    "dev_head = united_df['developer'].value_counts().head(10)\n",
    "\n",
    "# Create a figure\n",
    "fig1, ax1 = plt.subplots(figsize=(10,4))\n",
    "\n",
    "# Building a graph from a series\n",
    "dev_head.plot(kind='barh', color='lightcoral', ax=ax1)\n",
    "\n",
    "# Changing the order of lines on the chart\n",
    "plt.gca().invert_yaxis()\n",
    "\n",
    "# Sign the axes and give the name\n",
    "plt.title('Number of games per developer')\n",
    "plt.xlabel('Number of games')\n",
    "plt.ylabel('Developer')\n",
    "\n",
    "# Draw vertical lines\n",
    "plt.grid(axis='x')\n",
    "ax1.set_axisbelow(True)\n",
    "plt.show()"
   ]
  },
  {
   "cell_type": "code",
   "execution_count": 7,
   "id": "adbf732a",
   "metadata": {
    "execution": {
     "iopub.execute_input": "2021-07-11T13:49:06.769408Z",
     "iopub.status.busy": "2021-07-11T13:49:06.768722Z",
     "iopub.status.idle": "2021-07-11T13:49:06.977616Z",
     "shell.execute_reply": "2021-07-11T13:49:06.978057Z",
     "shell.execute_reply.started": "2021-07-11T11:28:04.802182Z"
    },
    "papermill": {
     "duration": 0.239468,
     "end_time": "2021-07-11T13:49:06.978254",
     "exception": false,
     "start_time": "2021-07-11T13:49:06.738786",
     "status": "completed"
    },
    "tags": []
   },
   "outputs": [
    {
     "data": {
      "image/png": "[encoded data removed]",
      "text/plain": [
       "<Figure size 720x288 with 1 Axes>"
      ]
     },
     "metadata": {
      "needs_background": "light"
     },
     "output_type": "display_data"
    }
   ],
   "source": [
    "# Selecting the required part of the dataframe\n",
    "group_sum = united_df.groupby('developer')['rating_difference'].sum()\n",
    "\n",
    "# Divide values to improve display\n",
    "head_mill = group_sum.sort_values(ascending=False).head(10)/1000\n",
    "\n",
    "fig2, ax2 = plt.subplots(figsize=(10,4))\n",
    "\n",
    "head_mill.plot(kind='barh', color='lightcoral', ax=ax2)\n",
    "\n",
    "plt.gca().invert_yaxis()\n",
    "\n",
    "plt.title('The sum of the difference in ratings per developer')\n",
    "plt.xlabel('The sum of the difference in ratings, thousand')\n",
    "plt.ylabel('Developer')\n",
    "\n",
    "plt.grid(axis='x')\n",
    "ax2.set_axisbelow(True)\n",
    "plt.show()"
   ]
  },
  {
   "cell_type": "code",
   "execution_count": 8,
   "id": "b42d6174",
   "metadata": {
    "execution": {
     "iopub.execute_input": "2021-07-11T13:49:07.030728Z",
     "iopub.status.busy": "2021-07-11T13:49:07.030068Z",
     "iopub.status.idle": "2021-07-11T13:49:07.245619Z",
     "shell.execute_reply": "2021-07-11T13:49:07.246090Z",
     "shell.execute_reply.started": "2021-07-11T11:28:08.601851Z"
    },
    "papermill": {
     "duration": 0.240755,
     "end_time": "2021-07-11T13:49:07.246291",
     "exception": false,
     "start_time": "2021-07-11T13:49:07.005536",
     "status": "completed"
    },
    "tags": []
   },
   "outputs": [
    {
     "data": {
      "image/png": "[encoded data removed]",
      "text/plain": [
       "<Figure size 720x288 with 1 Axes>"
      ]
     },
     "metadata": {
      "needs_background": "light"
     },
     "output_type": "display_data"
    }
   ],
   "source": [
    "# Repeat all the same\n",
    "diff_sort = united_df.sort_values(by='rating_difference', ascending=False).head(10)\n",
    "diff_sort['rating_difference'] = diff_sort['rating_difference']/1000\n",
    "\n",
    "fig3, ax3 = plt.subplots(figsize=(10,4))\n",
    "\n",
    "diff_sort.plot(kind='barh', y='rating_difference', x='name', color='lightcoral', ax=ax3)\n",
    "\n",
    "plt.gca().invert_yaxis()\n",
    "\n",
    "plt.title('Difference in ratings per game')\n",
    "plt.xlabel('Difference in ratings, thousand')\n",
    "plt.ylabel('Game')\n",
    "\n",
    "plt.grid(axis='x')\n",
    "ax3.set_axisbelow(True)\n",
    "plt.show()"
   ]
  },
  {
   "cell_type": "markdown",
   "id": "a8ef0b41",
   "metadata": {
    "papermill": {
     "duration": 0.022396,
     "end_time": "2021-07-11T13:49:07.292462",
     "exception": false,
     "start_time": "2021-07-11T13:49:07.270066",
     "status": "completed"
    },
    "tags": []
   },
   "source": [
    "# Combining data for analysis"
   ]
  },
  {
   "cell_type": "code",
   "execution_count": 9,
   "id": "8f3637cc",
   "metadata": {
    "execution": {
     "iopub.execute_input": "2021-07-11T13:49:07.343501Z",
     "iopub.status.busy": "2021-07-11T13:49:07.342744Z",
     "iopub.status.idle": "2021-07-11T13:49:07.348455Z",
     "shell.execute_reply": "2021-07-11T13:49:07.348974Z",
     "shell.execute_reply.started": "2021-07-11T11:28:11.862084Z"
    },
    "papermill": {
     "duration": 0.033591,
     "end_time": "2021-07-11T13:49:07.349201",
     "exception": false,
     "start_time": "2021-07-11T13:49:07.315610",
     "status": "completed"
    },
    "tags": []
   },
   "outputs": [],
   "source": [
    "# Separating tags with a space\n",
    "def globalization(strok:str):\n",
    "    return strok.replace(';', ' ')\n",
    "\n",
    "# Removing duplicate tags\n",
    "def del_rep(strok:str):\n",
    "    spl_strok = strok.split()\n",
    "    return ' '.join(sorted(set(spl_strok), key=spl_strok.index))\n",
    "\n",
    "# Converting to lower case\n",
    "def to_low(strok:str):\n",
    "    return strok.lower()"
   ]
  },
  {
   "cell_type": "markdown",
   "id": "9ceb0043",
   "metadata": {
    "papermill": {
     "duration": 0.024613,
     "end_time": "2021-07-11T13:49:07.399422",
     "exception": false,
     "start_time": "2021-07-11T13:49:07.374809",
     "status": "completed"
    },
    "tags": []
   },
   "source": [
    "I had to combine the values from the columns name, developer, genres, steamspy_tags into one. All letters are converted to lower case. Sometimes the values of the genres and steamspy_tags columns are the same, so you need to remove duplicates"
   ]
  },
  {
   "cell_type": "code",
   "execution_count": 10,
   "id": "94d5e7c9",
   "metadata": {
    "execution": {
     "iopub.execute_input": "2021-07-11T13:49:07.475846Z",
     "iopub.status.busy": "2021-07-11T13:49:07.466783Z",
     "iopub.status.idle": "2021-07-11T13:49:07.551957Z",
     "shell.execute_reply": "2021-07-11T13:49:07.551371Z",
     "shell.execute_reply.started": "2021-07-11T11:28:13.938528Z"
    },
    "papermill": {
     "duration": 0.129401,
     "end_time": "2021-07-11T13:49:07.552111",
     "exception": false,
     "start_time": "2021-07-11T13:49:07.422710",
     "status": "completed"
    },
    "tags": []
   },
   "outputs": [],
   "source": [
    "# Separating tags with a space\n",
    "united_df['genres'] = united_df['genres'].apply(globalization)\n",
    "united_df['steamspy_tags'] = united_df['steamspy_tags'].apply(globalization)\n",
    "\n",
    "# Combining genres and tags\n",
    "united_df['genres&tags'] = united_df['genres'] + ' ' + united_df['steamspy_tags']\n",
    "\n",
    "# Removing duplicate tags\n",
    "united_df['genres&tags'] = united_df['genres&tags'].apply(del_rep)\n",
    "\n",
    "# Convert strings to lowercase and concatenate into one column\n",
    "cols = ['developer', 'genres&tags']\n",
    "united_df['alls'] = united_df['name'].copy().apply(to_low)\n",
    "for i in cols:\n",
    "  united_df['alls'] += ' ' + united_df[i].apply(to_low)"
   ]
  },
  {
   "cell_type": "code",
   "execution_count": 11,
   "id": "516536d7",
   "metadata": {
    "execution": {
     "iopub.execute_input": "2021-07-11T13:49:07.605673Z",
     "iopub.status.busy": "2021-07-11T13:49:07.604786Z",
     "iopub.status.idle": "2021-07-11T13:49:07.609031Z",
     "shell.execute_reply": "2021-07-11T13:49:07.608402Z",
     "shell.execute_reply.started": "2021-07-11T11:28:16.518747Z"
    },
    "papermill": {
     "duration": 0.034368,
     "end_time": "2021-07-11T13:49:07.609189",
     "exception": false,
     "start_time": "2021-07-11T13:49:07.574821",
     "status": "completed"
    },
    "tags": []
   },
   "outputs": [
    {
     "data": {
      "text/plain": [
       "0              counter-strike valve action fps multiplayer\n",
       "1        team fortress classic valve action fps multipl...\n",
       "2        day of defeat valve action fps world war ii mu...\n",
       "3          deathmatch classic valve action fps multiplayer\n",
       "4        half-life: opposing force gearbox software act...\n",
       "                               ...                        \n",
       "12325    a legionary's life alessandro roberti indie rp...\n",
       "12326    the underground watcher/地下监察员 yima vlg. action...\n",
       "12327      the renovator mirzagame5 indie horror adventure\n",
       "12328                 blacksmith run skull box games indie\n",
       "12329    captainmarlene dnovel adventure indie early ac...\n",
       "Name: alls, Length: 12330, dtype: object"
      ]
     },
     "execution_count": 11,
     "metadata": {},
     "output_type": "execute_result"
    }
   ],
   "source": [
    "# How it looks\n",
    "united_df['alls']"
   ]
  },
  {
   "cell_type": "markdown",
   "id": "a928ff09",
   "metadata": {
    "papermill": {
     "duration": 0.022821,
     "end_time": "2021-07-11T13:49:07.655257",
     "exception": false,
     "start_time": "2021-07-11T13:49:07.632436",
     "status": "completed"
    },
    "tags": []
   },
   "source": [
    "By calculating the cosine similarity for each game, we can determine how similar they are."
   ]
  },
  {
   "cell_type": "code",
   "execution_count": 12,
   "id": "d619fdc4",
   "metadata": {
    "execution": {
     "iopub.execute_input": "2021-07-11T13:49:07.725186Z",
     "iopub.status.busy": "2021-07-11T13:49:07.719944Z",
     "iopub.status.idle": "2021-07-11T13:49:13.625407Z",
     "shell.execute_reply": "2021-07-11T13:49:13.624772Z",
     "shell.execute_reply.started": "2021-07-11T11:28:20.125417Z"
    },
    "papermill": {
     "duration": 5.947277,
     "end_time": "2021-07-11T13:49:13.625557",
     "exception": false,
     "start_time": "2021-07-11T13:49:07.678280",
     "status": "completed"
    },
    "tags": []
   },
   "outputs": [],
   "source": [
    "# Convert a collection of text documents to a matrix of token counts\n",
    "count_vec = CountVectorizer(stop_words='english')\n",
    "count_matrix = count_vec.fit_transform(united_df['alls'])\n",
    "\n",
    "# Compute cosine similarity\n",
    "cosine_sim = cosine_similarity(count_matrix, count_matrix)"
   ]
  },
  {
   "cell_type": "markdown",
   "id": "0393c32f",
   "metadata": {
    "papermill": {
     "duration": 0.022963,
     "end_time": "2021-07-11T13:49:13.672753",
     "exception": false,
     "start_time": "2021-07-11T13:49:13.649790",
     "status": "completed"
    },
    "tags": []
   },
   "source": [
    "Converting short description to vectors. For text-like strings, it is better to use the TfidfVectorizer. He performs the TF-IDF transformation from a provided matrix of counts. Using hstack, you can combine matrices and calculate the cosine convergence so that when making recommendations, you can also take into account the description of the game"
   ]
  },
  {
   "cell_type": "code",
   "execution_count": 13,
   "id": "53bb0458",
   "metadata": {
    "execution": {
     "iopub.execute_input": "2021-07-11T13:49:13.758122Z",
     "iopub.status.busy": "2021-07-11T13:49:13.752791Z",
     "iopub.status.idle": "2021-07-11T13:49:20.739728Z",
     "shell.execute_reply": "2021-07-11T13:49:20.739126Z",
     "shell.execute_reply.started": "2021-07-11T11:28:31.907803Z"
    },
    "papermill": {
     "duration": 7.044178,
     "end_time": "2021-07-11T13:49:20.739873",
     "exception": false,
     "start_time": "2021-07-11T13:49:13.695695",
     "status": "completed"
    },
    "tags": []
   },
   "outputs": [],
   "source": [
    "# Convert a collection of raw documents to a matrix of TF-IDF features\n",
    "tfidf = TfidfVectorizer(stop_words='english')\n",
    "tfidf_matrix = tfidf.fit_transform(united_df['short_description'])\n",
    "\n",
    "# Stack sparse matrices horizontally\n",
    "st = hstack([count_matrix, tfidf_matrix])\n",
    "\n",
    "# Compute cosine similarity\n",
    "cosine_sim2 = cosine_similarity(st, st)"
   ]
  },
  {
   "cell_type": "markdown",
   "id": "95df9edd",
   "metadata": {
    "papermill": {
     "duration": 0.022856,
     "end_time": "2021-07-11T13:49:20.785882",
     "exception": false,
     "start_time": "2021-07-11T13:49:20.763026",
     "status": "completed"
    },
    "tags": []
   },
   "source": [
    "This function makes 10 recommendations based on the calculated cosine similarity. In this case, there are two options: recommendations based on title, developer and tags, and the same recommendations, but using a short description"
   ]
  },
  {
   "cell_type": "code",
   "execution_count": 14,
   "id": "323ab34c",
   "metadata": {
    "execution": {
     "iopub.execute_input": "2021-07-11T13:49:20.839249Z",
     "iopub.status.busy": "2021-07-11T13:49:20.838586Z",
     "iopub.status.idle": "2021-07-11T13:49:20.841709Z",
     "shell.execute_reply": "2021-07-11T13:49:20.841038Z",
     "shell.execute_reply.started": "2021-07-11T11:28:42.857391Z"
    },
    "papermill": {
     "duration": 0.032711,
     "end_time": "2021-07-11T13:49:20.841852",
     "exception": false,
     "start_time": "2021-07-11T13:49:20.809141",
     "status": "completed"
    },
    "tags": []
   },
   "outputs": [],
   "source": [
    "# The main function that makes recommendations\n",
    "def get_rec(nam:str, cosine):\n",
    "#     Determine the index\n",
    "    ind = united_df[united_df['name'] == nam].index.to_list()[0]\n",
    "    \n",
    "#     Obtaining cosine convergence by index\n",
    "    cos_scor = list(enumerate(cosine[ind]))\n",
    "    \n",
    "#     Getting the most suitable games\n",
    "    cos_scor = sorted(cos_scor, key=lambda x: x[1], reverse=True)\n",
    "    cos_scor = cos_scor[1:11]\n",
    "    ten_ind = [i[0] for i in cos_scor]\n",
    "    return united_df['name'].iloc[ten_ind]"
   ]
  },
  {
   "cell_type": "markdown",
   "id": "5749f84f",
   "metadata": {},
   "source": [
    "# Examples and use case"
   ]
  },
  {
   "cell_type": "markdown",
   "id": "072db315",
   "metadata": {
    "papermill": {
     "duration": 0.023209,
     "end_time": "2021-07-11T13:49:20.888276",
     "exception": false,
     "start_time": "2021-07-11T13:49:20.865067",
     "status": "completed"
    },
    "tags": []
   },
   "source": [
    "Below are some examples of recommended games. In general, the two versions of recommendations are not critically different and their recommendations are approximately the same. For games that are part of a large franchise, the recommendations may not differ at all (example 2). But the second option, which takes into account the description of the games, may recommend games that are not quite suitable by genre, but suitable by topic."
   ]
  },
  {
   "cell_type": "markdown",
   "id": "c3813812",
   "metadata": {},
   "source": [
    "# Example 1"
   ]
  },
  {
   "cell_type": "code",
   "execution_count": 15,
   "id": "a8a72a2c",
   "metadata": {
    "execution": {
     "iopub.execute_input": "2021-07-11T13:49:20.963171Z",
     "iopub.status.busy": "2021-07-11T13:49:20.944326Z",
     "iopub.status.idle": "2021-07-11T13:49:20.988367Z",
     "shell.execute_reply": "2021-07-11T13:49:20.987834Z",
     "shell.execute_reply.started": "2021-07-11T11:39:26.112042Z"
    },
    "papermill": {
     "duration": 0.076921,
     "end_time": "2021-07-11T13:49:20.988512",
     "exception": false,
     "start_time": "2021-07-11T13:49:20.911591",
     "status": "completed"
    },
    "tags": []
   },
   "outputs": [
    {
     "name": "stdout",
     "output_type": "stream",
     "text": [
      "Recommendation for S.T.A.L.K.E.R.: Shadow of Chernobyl \n",
      "\n",
      "Recommendations using game name, developer, genre and tags \n",
      "\n",
      "655                       S.T.A.L.K.E.R.: Call of Pripyat\n",
      "378                             S.T.A.L.K.E.R.: Clear Sky\n",
      "410                                             Fallout 3\n",
      "4512                                            Fallout 4\n",
      "415                   Fallout 3: Game of the Year Edition\n",
      "797                                              Gothic 1\n",
      "416                                    Fallout: New Vegas\n",
      "2301                   Hard Truck Apocalypse / Ex Machina\n",
      "1272    Sea Dogs: To Each His Own - Pirate Open World RPG\n",
      "9335                                         Fallout 4 VR\n",
      "Name: name, dtype: object \n",
      "\n",
      "Recommendations using game name, developer, genre, tags and description \n",
      "\n",
      "None\n",
      "655                       S.T.A.L.K.E.R.: Call of Pripyat\n",
      "378                             S.T.A.L.K.E.R.: Clear Sky\n",
      "410                                             Fallout 3\n",
      "4512                                            Fallout 4\n",
      "415                   Fallout 3: Game of the Year Edition\n",
      "416                                    Fallout: New Vegas\n",
      "2301                   Hard Truck Apocalypse / Ex Machina\n",
      "797                                              Gothic 1\n",
      "1272    Sea Dogs: To Each His Own - Pirate Open World RPG\n",
      "9335                                         Fallout 4 VR\n",
      "Name: name, dtype: object\n"
     ]
    }
   ],
   "source": [
    "# Example 1\n",
    "naz = \"S.T.A.L.K.E.R.: Shadow of Chernobyl\"\n",
    "print('Recommendation for', naz, '\\n')\n",
    "print('Recommendations using game name, developer, genre and tags \\n')\n",
    "print(get_rec(naz, cosine_sim),'\\n')\n",
    "print(print('Recommendations using game name, developer, genre, tags and description \\n'))\n",
    "print(get_rec(naz, cosine_sim2))"
   ]
  },
  {
   "cell_type": "markdown",
   "id": "f57d386c",
   "metadata": {},
   "source": [
    "# Example 2"
   ]
  },
  {
   "cell_type": "code",
   "execution_count": 16,
   "id": "7beb6805",
   "metadata": {
    "execution": {
     "iopub.execute_input": "2021-07-11T13:49:21.077773Z",
     "iopub.status.busy": "2021-07-11T13:49:21.077096Z",
     "iopub.status.idle": "2021-07-11T13:49:21.082331Z",
     "shell.execute_reply": "2021-07-11T13:49:21.083052Z",
     "shell.execute_reply.started": "2021-07-11T13:20:36.312093Z"
    },
    "papermill": {
     "duration": 0.071245,
     "end_time": "2021-07-11T13:49:21.083309",
     "exception": false,
     "start_time": "2021-07-11T13:49:21.012064",
     "status": "completed"
    },
    "tags": []
   },
   "outputs": [
    {
     "name": "stdout",
     "output_type": "stream",
     "text": [
      "Recommendation for Call of Duty® 4: Modern Warfare® \n",
      "\n",
      "Recommendations using game name, developer, genre and tags \n",
      "\n",
      "234              Call of Duty®: Modern Warfare® 2\n",
      "66                                Call of Duty® 2\n",
      "1096                        Call of Duty®: Ghosts\n",
      "4907    Call of Duty®: Modern Warfare® Remastered\n",
      "65                                  Call of Duty®\n",
      "2843                 Call of Duty®: Black Ops III\n",
      "1165        Call of Duty: Black Ops - Mac Edition\n",
      "988                   Call of Duty®: Black Ops II\n",
      "731                                 Borderlands 2\n",
      "5                                        Ricochet\n",
      "Name: name, dtype: object \n",
      "\n",
      "Recommendations using game name, developer, genre, tags and description \n",
      "\n",
      "None\n",
      "234              Call of Duty®: Modern Warfare® 2\n",
      "66                                Call of Duty® 2\n",
      "1096                        Call of Duty®: Ghosts\n",
      "4907    Call of Duty®: Modern Warfare® Remastered\n",
      "65                                  Call of Duty®\n",
      "2843                 Call of Duty®: Black Ops III\n",
      "1165        Call of Duty: Black Ops - Mac Edition\n",
      "988                   Call of Duty®: Black Ops II\n",
      "731                                 Borderlands 2\n",
      "5                                        Ricochet\n",
      "Name: name, dtype: object\n"
     ]
    }
   ],
   "source": [
    "# Example 2\n",
    "naz = \"Call of Duty® 4: Modern Warfare®\"\n",
    "print('Recommendation for', naz, '\\n')\n",
    "print('Recommendations using game name, developer, genre and tags \\n')\n",
    "print(get_rec(naz, cosine_sim),'\\n')\n",
    "print(print('Recommendations using game name, developer, genre, tags and description \\n'))\n",
    "print(get_rec(naz, cosine_sim2))"
   ]
  },
  {
   "cell_type": "markdown",
   "id": "45513889",
   "metadata": {},
   "source": [
    "# Example 3"
   ]
  },
  {
   "cell_type": "code",
   "execution_count": 17,
   "id": "84bd41a3",
   "metadata": {
    "execution": {
     "iopub.execute_input": "2021-07-11T13:49:21.173945Z",
     "iopub.status.busy": "2021-07-11T13:49:21.173255Z",
     "iopub.status.idle": "2021-07-11T13:49:21.178739Z",
     "shell.execute_reply": "2021-07-11T13:49:21.178185Z",
     "shell.execute_reply.started": "2021-07-11T13:21:00.190027Z"
    },
    "papermill": {
     "duration": 0.070819,
     "end_time": "2021-07-11T13:49:21.178887",
     "exception": false,
     "start_time": "2021-07-11T13:49:21.108068",
     "status": "completed"
    },
    "tags": []
   },
   "outputs": [
    {
     "name": "stdout",
     "output_type": "stream",
     "text": [
      "Recommendation for Tropico 5 \n",
      "\n",
      "Recommendations using game name, developer, genre and tags \n",
      "\n",
      "429                         Tropico 3\n",
      "756                         Tropico 4\n",
      "427                  Grand Ages: Rome\n",
      "6594                   Surviving Mars\n",
      "425     Imperium Romanum Gold Edition\n",
      "7615                        Caesar™ 3\n",
      "8776                      Constructor\n",
      "1080       Omerta - City of Gangsters\n",
      "7065                        Tropico 6\n",
      "8481              Pharaoh + Cleopatra\n",
      "Name: name, dtype: object \n",
      "\n",
      "Recommendations using game name, developer, genre, tags and description \n",
      "\n",
      "None\n",
      "756                         Tropico 4\n",
      "429                         Tropico 3\n",
      "427                  Grand Ages: Rome\n",
      "6594                   Surviving Mars\n",
      "425     Imperium Romanum Gold Edition\n",
      "7615                        Caesar™ 3\n",
      "7065                        Tropico 6\n",
      "539                  Tropico Reloaded\n",
      "8481              Pharaoh + Cleopatra\n",
      "1080       Omerta - City of Gangsters\n",
      "Name: name, dtype: object\n"
     ]
    }
   ],
   "source": [
    "# Example 3\n",
    "naz = \"Tropico 5\"\n",
    "print('Recommendation for', naz, '\\n')\n",
    "print('Recommendations using game name, developer, genre and tags \\n')\n",
    "print(get_rec(naz, cosine_sim),'\\n')\n",
    "print(print('Recommendations using game name, developer, genre, tags and description \\n'))\n",
    "print(get_rec(naz, cosine_sim2))"
   ]
  },
  {
   "cell_type": "code",
   "execution_count": null,
   "id": "21ae4b18",
   "metadata": {},
   "outputs": [],
   "source": []
  }
 ],
 "metadata": {
  "kernelspec": {
   "display_name": "Python 3",
   "language": "python",
   "name": "python3"
  },
  "language_info": {
   "codemirror_mode": {
    "name": "ipython",
    "version": 3
   },
   "file_extension": ".py",
   "mimetype": "text/x-python",
   "name": "python",
   "nbconvert_exporter": "python",
   "pygments_lexer": "ipython3",
   "version": "3.8.8"
  },
  "papermill": {
   "default_parameters": {},
   "duration": 28.763073,
   "end_time": "2021-07-11T13:49:22.114492",
   "environment_variables": {},
   "exception": null,
   "input_path": "__notebook__.ipynb",
   "output_path": "__notebook__.ipynb",
   "parameters": {},
   "start_time": "2021-07-11T13:48:53.351419",
   "version": "2.3.3"
  }
 },
 "nbformat": 4,
 "nbformat_minor": 5
}
